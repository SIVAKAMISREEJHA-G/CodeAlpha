{
  "nbformat": 4,
  "nbformat_minor": 0,
  "metadata": {
    "colab": {
      "provenance": [],
      "authorship_tag": "ABX9TyO/iBLOPnwoAuNIcdF/lc3U",
      "include_colab_link": true
    },
    "kernelspec": {
      "name": "python3",
      "display_name": "Python 3"
    },
    "language_info": {
      "name": "python"
    }
  },
  "cells": [
    {
      "cell_type": "markdown",
      "metadata": {
        "id": "view-in-github",
        "colab_type": "text"
      },
      "source": [
        "<a href=\"https://colab.research.google.com/github/SIVAKAMISREEJHA-G/CodeAlpha/blob/main/Language_Translation_Tool.ipynb\" target=\"_parent\"><img src=\"https://colab.research.google.com/assets/colab-badge.svg\" alt=\"Open In Colab\"/></a>"
      ]
    },
    {
      "cell_type": "code",
      "execution_count": null,
      "metadata": {
        "id": "q0c9uPqkseWj"
      },
      "outputs": [],
      "source": [
        "pip install transformers torch\n"
      ]
    },
    {
      "cell_type": "markdown",
      "source": [
        "**only these languages can be translated:**\n",
        "English to Spanish: en to es\n",
        "\n",
        "Spanish to English: es to en\n",
        "\n",
        "English to French: en to fr\n",
        "\n",
        "French to English: fr to en\n",
        "\n",
        "English to German: en to de\n",
        "\n",
        "German to English: de to en"
      ],
      "metadata": {
        "id": "hHjzdQuD0dN5"
      }
    },
    {
      "cell_type": "code",
      "source": [
        "from transformers import MarianMTModel, MarianTokenizer\n",
        "\n",
        "def translate_text(text, src_lang, tgt_lang):\n",
        "    model_name = f'Helsinki-NLP/opus-mt-{src_lang}-{tgt_lang}'\n",
        "\n",
        "    try:\n",
        "        tokenizer = MarianTokenizer.from_pretrained(model_name)\n",
        "        model = MarianMTModel.from_pretrained(model_name)\n",
        "    except OSError:\n",
        "        return \"Translation model not available for the given language pair.\"\n",
        "\n",
        "    translated = model.generate(**tokenizer(text, return_tensors=\"pt\", padding=True))\n",
        "    translated_text = [tokenizer.decode(t, skip_special_tokens=True) for t in translated]\n",
        "\n",
        "    return translated_text[0]\n",
        "\n",
        "def list_supported_language_pairs():\n",
        "    return [\n",
        "        \"en-es\", \"es-en\", \"en-fr\", \"fr-en\", \"en-de\", \"de-en\", \"en-it\", \"it-en\",\n",
        "        \"en-nl\", \"nl-en\", \"en-pt\", \"pt-en\", \"en-ru\", \"ru-en\", \"en-zh\", \"zh-en\",\n",
        "        \"en-ja\", \"ja-en\", \"en-ko\", \"ko-en\", \"en-ar\", \"ar-en\", \"en-hi\", \"hi-en\",\n",
        "        \"en-tr\", \"tr-en\", \"en-pl\", \"pl-en\", \"en-sv\", \"sv-en\", \"en-da\", \"da-en\",\n",
        "        \"en-fi\", \"fi-en\", \"en-no\", \"no-en\", \"en-el\", \"el-en\", \"en-hu\", \"hu-en\",\n",
        "        \"en-cs\", \"cs-en\", \"en-sk\", \"sk-en\", \"en-bg\", \"bg-en\", \"en-ro\", \"ro-en\",\n",
        "        \"en-he\", \"he-en\", \"en-id\", \"id-en\", \"en-th\", \"th-en\", \"en-vi\", \"vi-en\"\n",
        "    ]\n",
        "\n",
        "\n",
        "text = input(\"Enter the text to translate: \")\n",
        "src_lang = input(\"Enter the source language code (e.g., 'en' for English): \")\n",
        "tgt_lang = input(\"Enter the target language code (e.g., 'es' for Spanish): \")\n",
        "\n",
        "supported_pairs = list_supported_language_pairs()\n",
        "if f\"{src_lang}-{tgt_lang}\" in supported_pairs:\n",
        "    translated_text = translate_text(text, src_lang, tgt_lang)\n",
        "    print(f\"Translated text: {translated_text}\")\n",
        "else:\n",
        "    print(\"The specified language pair is not supported.\")\n",
        "\n"
      ],
      "metadata": {
        "colab": {
          "base_uri": "https://localhost:8080/"
        },
        "id": "otMViCO-y0EM",
        "outputId": "f15a8af4-a50c-44cb-890d-fa2b0ecc715a"
      },
      "execution_count": 23,
      "outputs": [
        {
          "output_type": "stream",
          "name": "stdout",
          "text": [
            "Enter the text to translate: have a nice day!\n",
            "Enter the source language code (e.g., 'en' for English): en\n",
            "Enter the target language code (e.g., 'es' for Spanish): de\n",
            "Translated text: Einen schönen Tag noch!\n"
          ]
        }
      ]
    }
  ]
}